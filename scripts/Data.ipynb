{
 "cells": [
  {
   "cell_type": "markdown",
   "metadata": {
    "id": "ayIGowZn18Wa"
   },
   "source": [
    "\n",
    "<h2>ANALYSING NEIGHBOURHOODS OF SPAIN FOR OPENING A NEW RESTAURANT.<h2>\n",
    "<h3> IBM Capstone Project <h3>\n",
    "\n"
   ]
  },
  {
   "cell_type": "markdown",
   "metadata": {
    "id": "YSYZVUG22PPs"
   },
   "source": [
    "<h4>4. Data Origins:<h4>"
   ]
  },
  {
   "cell_type": "markdown",
   "metadata": {
    "id": "MUj3mhcl2PdO"
   },
   "source": [
    "\n",
    "Three data sources:\n",
    "1. Geopy to convert an address into latitude and longitude values.\n",
    "2. FourSquare API to analyze venues\n",
    "3. Wikipedia: https://https://en.wikipedia.org/wiki/Category:Neighbourhoods_of_Madrid"
   ]
  },
  {
   "cell_type": "markdown",
   "metadata": {
    "id": "QJr6vKBd3mxM"
   },
   "source": [
    "All of these, I'll use to create a folium map to discover some oportunities for a new restaurant."
   ]
  }
 ],
 "metadata": {
  "colab": {
   "collapsed_sections": [],
   "name": "Data.ipynb",
   "provenance": []
  },
  "kernelspec": {
   "display_name": "Python 3",
   "language": "python",
   "name": "python3"
  },
  "language_info": {
   "codemirror_mode": {
    "name": "ipython",
    "version": 3
   },
   "file_extension": ".py",
   "mimetype": "text/x-python",
   "name": "python",
   "nbconvert_exporter": "python",
   "pygments_lexer": "ipython3",
   "version": "3.8.5"
  }
 },
 "nbformat": 4,
 "nbformat_minor": 1
}
