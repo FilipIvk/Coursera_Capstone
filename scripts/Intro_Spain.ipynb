{
 "cells": [
  {
   "cell_type": "markdown",
   "metadata": {
    "id": "D7CxrVzfaQGu"
   },
   "source": [
    "\n",
    "<H2>ANALYSING NEIGHBOURHOODS OF SPAIN FOR OPENING A NEW RESTAURANT.<H2>\n",
    "<h3> IBM Capstone Project <h3>\n",
    "\n",
    "\n",
    "\n",
    "\n",
    "\n",
    "\n"
   ]
  },
  {
   "cell_type": "markdown",
   "metadata": {
    "id": "Uf7efuDFa-QN"
   },
   "source": [
    "<h4>1. Introduction:<h4>\n"
   ]
  },
  {
   "cell_type": "markdown",
   "metadata": {
    "id": "--8eL1NLa-bK"
   },
   "source": [
    "I am currently a data analyst but at some point in the future I would like to start my own restaurant in central Spain. There are several challenges. First, Madrid is a touristic city, hence, there is already a vast majority of restaurants that cover all imaginable culinary needs. Second, Madrid is Spain's capital, thus, the Spanish cusine is very popular there. Third, it is more probable that tourists eat in their respective hotels than going out to eat traditional Spanish cuisine."
   ]
  },
  {
   "cell_type": "markdown",
   "metadata": {
    "id": "emSpsKmIdQOu"
   },
   "source": [
    "<h4>2. How I resolve this problem?<h4>"
   ]
  },
  {
   "cell_type": "markdown",
   "metadata": {
    "id": "e7WQL6T5dQMF"
   },
   "source": [
    "I am going to focus my research on the location of popular hotels in Madrid and investigate the number of restaurants in their surroundings. Subsequently, I will analyze suitable opportunities in various locations to start the new restaurant. Finally, I will pick a single chosen hotel with a splendid location, close to public transport and sightseeing buses dedicated to tourism transit."
   ]
  },
  {
   "cell_type": "markdown",
   "metadata": {
    "id": "fbEZR65hdQJm"
   },
   "source": [
    "<h4>3. Target public:<h4>"
   ]
  },
  {
   "cell_type": "markdown",
   "metadata": {
    "id": "6q0aJfOcdQG1"
   },
   "source": [
    "My target public are tourists curious about typical Spanish dishes with a personal touch. Especially people aged between 30-50 who enjoy a unique culinary experience and who are excited about discovering contemporary local ways of preparing food. The audience will be on the lookout for medium price range offerings including high quality service for a reasonable price. The perfect clientele will be eager about ecologically processed products, natural growth and smart decoration."
   ]
  }
 ],
 "metadata": {
  "colab": {
   "collapsed_sections": [],
   "name": "Intro Barcelona.ipynb",
   "provenance": []
  },
  "kernelspec": {
   "display_name": "Python 3",
   "language": "python",
   "name": "python3"
  },
  "language_info": {
   "codemirror_mode": {
    "name": "ipython",
    "version": 3
   },
   "file_extension": ".py",
   "mimetype": "text/x-python",
   "name": "python",
   "nbconvert_exporter": "python",
   "pygments_lexer": "ipython3",
   "version": "3.8.5"
  }
 },
 "nbformat": 4,
 "nbformat_minor": 1
}
